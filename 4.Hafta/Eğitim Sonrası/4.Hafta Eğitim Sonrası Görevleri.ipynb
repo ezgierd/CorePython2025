{
 "cells": [
  {
   "cell_type": "markdown",
   "metadata": {},
   "source": [
    "# Problem 1\n",
    "`ogrenciler` adında bir sözlük oluşturunuz. Kullanıcıdan döngü yardımıyla 3 öğrenci için veri girmesini isteyerek öğrencilerin sırasıyla okul numarası, isim, soy isim, telefon numarası ve doğum tarihi bilgilerini alınız. Aldığınız öğrenci bilgilerini yine aynı döngü yardımıyla `ogrenciler` adındaki sözlükte saklayınız. Daha sonra öğrenci bilgilerinin bulunduğu sözlük yapısını ekrana bastırınız.\n",
    "\n"
   ]
  },
  {
   "cell_type": "code",
   "execution_count": 1,
   "metadata": {},
   "outputs": [
    {
     "name": "stdout",
     "output_type": "stream",
     "text": [
      "Öğrenci Bilgileri:\n",
      "{'234': {'isim': 'ab', 'soyisim': 'ba', 'Telefon': '62537553', 'dogum_tarihi': '2000'}, '543': {'isim': 'cb', 'soyisim': 'bc', 'Telefon': '8372686234823', 'dogum_tarihi': '2001'}, '653': {'isim': 'de', 'soyisim': 'ed', 'Telefon': '6384737346', 'dogum_tarihi': '2001'}}\n"
     ]
    }
   ],
   "source": [
    "# 1.Problemin Çözümünü Buraya Yazınız\n",
    "ogrenciler={}\n",
    "for i in range(3):\n",
    "    okul_no=input(\"Okul numarası:\")\n",
    "    isim=input(\"İsim:\")\n",
    "    soyisim=input(\"Soyisim:\")\n",
    "    telefon=input(\"Telefon numarası:\")\n",
    "    dogum_tarihi=input(\"Doğum Tarihi:\")\n",
    "    ogrenciler[okul_no]={\n",
    "        \"isim\": isim,\n",
    "        \"soyisim\": soyisim,\n",
    "        \"Telefon\": telefon,\n",
    "        \"dogum_tarihi\": dogum_tarihi\n",
    "    }\n",
    "print(\"Öğrenci Bilgileri:\")\n",
    "print(ogrenciler)"
   ]
  },
  {
   "cell_type": "markdown",
   "metadata": {},
   "source": [
    "# Problem 2\n",
    "\n",
    "### a - Biraz ısınarak başlayalım!\n",
    "\n",
    "```\n",
    "numbers = [5,10,10,15,15,15,20,20,20,20]\n",
    "```\n",
    "\n",
    "Yukarıda `numbers` adında 10 elemanlı bir liste verilmiştir. Bu listenin her elemanını kontrol eden ve tekrar eden elemanları bir kez olacak şekilde başka bir listeye kopyalayan bir program yazınız. Son olarak oluşturduğunuz listeyi ekrana bastırınız.\n",
    "\n",
    "\n",
    "\n",
    "\n",
    "```\n",
    ">Output\n",
    "[5, 10, 15, 20]\n",
    "```\n"
   ]
  },
  {
   "cell_type": "code",
   "execution_count": 2,
   "metadata": {},
   "outputs": [
    {
     "name": "stdout",
     "output_type": "stream",
     "text": [
      "[5, 10, 15, 20]\n"
     ]
    }
   ],
   "source": [
    "# 2.Problemin a Şıkkının Çözümünü Buraya Yazınız\n",
    "numbers=[5,10,10,15,15,15,20,20,20,20]\n",
    "list=[]\n",
    "for i in numbers:\n",
    "    if i not in list:\n",
    "        list.append(i)\n",
    "print(list)\n"
   ]
  },
  {
   "cell_type": "markdown",
   "metadata": {},
   "source": [
    "### 🌶️ b) Hadi işi biraz daha zorlaştıralım! \n",
    "\n",
    "\n",
    "Şimdiyse senden `numbers` isimli listedeki tekrar eden elemanları `repeatNumbers` adındaki listeye; tekrar etmeyen elemanları `uniqueNumbers`adındaki listeye kopyalayan yazmanı ve listeleri ekrana bastırmanı bekliyoruz\n",
    "\n",
    "```\n",
    ">Output\n",
    "Tekrar Eden Elemanlar: [10, 10, 15, 15, 15, 20, 20, 20, 20]\n",
    "Tekrar Etmeyen Elemanlar: [5]\n",
    "```"
   ]
  },
  {
   "cell_type": "code",
   "execution_count": 3,
   "metadata": {},
   "outputs": [
    {
     "name": "stdout",
     "output_type": "stream",
     "text": [
      "Tekrar eden elemanlar: [10, 10, 15, 15, 15, 20, 20, 20, 20]\n",
      "Tekrar etmeyen elemanlar: [5]\n"
     ]
    }
   ],
   "source": [
    "# 2.Problemin b Şıkkının Çözümünü Buraya Yazınız\n",
    "numbers=[5,10,10,15,15,15,20,20,20,20]\n",
    "\n",
    "repeatnumbers=[]\n",
    "uniquenumbers=[]\n",
    "for i in numbers:\n",
    "    if numbers.count(i)>1:\n",
    "        repeatnumbers.append(i)\n",
    "    elif i not in uniquenumbers:\n",
    "        uniquenumbers.append(i)\n",
    "print(\"Tekrar eden elemanlar:\", repeatnumbers)\n",
    "print(\"Tekrar etmeyen elemanlar:\", uniquenumbers)"
   ]
  },
  {
   "cell_type": "markdown",
   "metadata": {},
   "source": [
    "# Problem 3\n",
    "sn1 = {1,2,3,4,5}\n",
    "\n",
    "sn2 = {4,5,6,7,8}\n",
    "\n",
    " Verilen 2 adet küme için kesişimlerini, farklarını ve birleşimlerini bulunuz. "
   ]
  },
  {
   "cell_type": "code",
   "execution_count": 4,
   "metadata": {},
   "outputs": [
    {
     "name": "stdout",
     "output_type": "stream",
     "text": [
      "Kesişim: {4, 5}\n",
      "Fark: {1, 2, 3}\n",
      "Birleşim: {1, 2, 3, 4, 5, 6, 7, 8}\n"
     ]
    }
   ],
   "source": [
    "# 3.Problemin Çözümünü Buraya Yazınız\n",
    "sn1 = {1,2,3,4,5}\n",
    "sn2 = {4,5,6,7,8}\n",
    "kesisim=sn1.intersection(sn2)\n",
    "print(\"Kesişim:\", kesisim)\n",
    "fark=sn1.difference(sn2)\n",
    "print(\"Fark:\", fark)\n",
    "birlesim=sn1.union(sn2)\n",
    "print(\"Birleşim:\", birlesim)\n"
   ]
  },
  {
   "cell_type": "markdown",
   "metadata": {},
   "source": [
    "# Problem 4\n",
    "\n",
    "Buradaki işlemlerimizin tamamı stringler içindir. Aşağıda verilecek olan metodlar için kendinizin örnek yaratması gerekmektedir. \n",
    "\n",
    "Örneğin `upper` için `string` değişkeni oluştururken` k = \"BAC\"` şeklinde oluşturmayınız. Bunun yerine k değişkenini `k = \"bac`\" şeklinde oluşturmanız `upper` metodundaki değişimi görebilmeniz için daha iyi olacaktır.\n",
    "\n",
    "Bütün metodlardaki değişimin gözle görülür şekilde değişimi beklenmektedir.\n",
    "\n",
    "\n",
    "1- capitalize(), lower(), upper(), swapcase(), title(), replace()\n",
    "\n",
    "2- endswith(), startswith(), find(), index(), count()\n",
    "\n",
    "3- split(), strip(), join(), islower(), isalpha(), isdigit()\n",
    "\n",
    "\n",
    "Yukarıdaki `string` metodlarındaki değişimleri görebildiğimiz bir program yazınız.\n"
   ]
  },
  {
   "cell_type": "code",
   "execution_count": 6,
   "metadata": {},
   "outputs": [
    {
     "name": "stdout",
     "output_type": "stream",
     "text": [
      "Kırmızı balon\n",
      "kırmızı balon\n",
      "KIRMIZI BALON\n",
      "KIRMIZI bALON\n",
      "Kırmızı Balon\n",
      "kırmızı Balon\n",
      "True\n",
      "False\n",
      "2\n",
      "2\n",
      "3\n",
      "['kırmızı', 'Balon']\n",
      "Kırmızı Balon\n",
      "k-ı-r-m-ı-z-ı- -B-a-l-o-n\n",
      "False\n",
      "False\n",
      "True\n"
     ]
    }
   ],
   "source": [
    "# 4.Problemin Çözümünü Buraya Yazınız\n",
    "a=\"kırmızı Balon\"\n",
    "print(a.capitalize()) #İlk harfi büyük yapar, diğerlerini küçük yapar.\n",
    "print(a.lower()) #Tüm harfleri küçük yapar.\n",
    "print(a.upper()) #Tüm harfleri büyük yapar\n",
    "print(a.swapcase()) #Büyük harfleri küçük, küçük harfleri büyük yapar.\n",
    "print(a.title()) #Her kelimenin ilk harfini büyük yapar.\n",
    "print(a.replace(\"Kırmızı\", \"Mavi\")) #Belirtilen metni değiştirir.\n",
    "\n",
    "print(a.endswith('on')) #Belirtilen harf veya kelime ile bitiyorsa True döner.\n",
    "print(a.startswith('Kır')) #Belirtilen harf veya kelime ile başlıyorsa True döner.\n",
    "print(a.find('r')) #Belirtilen değerin başladığı ilk indeksi döner. Bulamazsa -1 döner.\n",
    "print(a.index('r')) #Belirtilen değerin başladığı ilk indeksi döner. Bulamazsa hata verir.\n",
    "print(a.count('ı')) #Belirtilen değerin kaç kez geçtiğini döner.\n",
    "\n",
    "print(a.split()) #Boşluklara göre böler ve liste döner.\n",
    "print(\" Kırmızı Balon \".strip()) # Başındaki ve sonundaki boşlukları kaldırır.\n",
    "print(\"-\".join(a)) #Her harfin arasına belirtilen değeri ekler.\n",
    "print(a.islower()) #Tüm harfler küçükse True döner.\n",
    "print(a.isdigit())\n",
    "print(a.replace(\" \", \"\").isalpha()) #Tüm karakterler harfse True döner."
   ]
  },
  {
   "cell_type": "code",
   "execution_count": null,
   "metadata": {},
   "outputs": [],
   "source": []
  }
 ],
 "metadata": {
  "kernelspec": {
   "display_name": "base",
   "language": "python",
   "name": "python3"
  },
  "language_info": {
   "codemirror_mode": {
    "name": "ipython",
    "version": 3
   },
   "file_extension": ".py",
   "mimetype": "text/x-python",
   "name": "python",
   "nbconvert_exporter": "python",
   "pygments_lexer": "ipython3",
   "version": "3.8.3"
  },
  "orig_nbformat": 4
 },
 "nbformat": 4,
 "nbformat_minor": 2
}
